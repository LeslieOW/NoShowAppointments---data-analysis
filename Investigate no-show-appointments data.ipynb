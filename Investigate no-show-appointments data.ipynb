{
 "cells": [
  {
   "cell_type": "markdown",
   "id": "d06fe3f6",
   "metadata": {},
   "source": [
    "## Project : Investigate a Dataset - [No-show Appointments]"
   ]
  },
  {
   "cell_type": "markdown",
   "id": "d5a49ff4",
   "metadata": {},
   "source": [
    "## Table of contents\n",
    " .Introduction\n",
    " \n",
    " .Data Wrangling\n",
    " \n",
    " .Exploratory Data Analysis\n",
    " \n",
    " .Conclusions"
   ]
  },
  {
   "cell_type": "markdown",
   "id": "b73b73ec",
   "metadata": {},
   "source": [
    "# 1.0 Introduction \n",
    "\n",
    "This dataset collects information from 100k medical appointments in Brazil and is focused on the question of whether or not patients show up for their appointment. A number of characteristics about the patient are included in each row.\n",
    "Some of the questions I will be investigating include;\n",
    "      \n",
    "   1.What factors are important for us to know in order to predict whether a patient will show up for their scheduled          appointment?\n",
    "   \n",
    "   2.Is the age likely to affect a patient's showing up for a scheduled appointment?\n",
    "   \n",
    "   3.Which gender is more likely not to show up for their scheduled appointment?\n",
    "   \n",
    "   4.Do patients suffering from hypertension likely to whow up for their appointments? \n",
    "   \n",
    "Be careful about the encoding of the last column: it says ‘No’ if the patient showed up to their appointment, and ‘Yes’ if they did not show up."
   ]
  },
  {
   "cell_type": "markdown",
   "id": "1c0d588f",
   "metadata": {},
   "source": [
    "# 2.0 Description about the Dataset for the Project\n",
    "\n",
    "The project investigates the no-show appointments dataset.\n",
    "A short description about the columns of the dataset are as follows:\n",
    "\n",
    "    - PatientId: identification number for the patient\n",
    "    - AppointmentId: appointment identification for the patient\n",
    "    - Gender: whether the patient is male or female\n",
    "    - ScheduledDay: day for scheduled appointment\n",
    "    - AppointmentDay: day for the appointment\n",
    "    - Age: age of the patient\n",
    "    - Neighbourhood: residense of the patient \n",
    "    - Scholarship: indicates whether the patient is enrolled in Brasilian welfare program\n",
    "    - Hypertension: indicates whether a patient is sufferingfrom this condition\n",
    "    - Diabetes: indicates whether a patient is sufferingfrom this condition\n",
    "    - Alcoholism: indicates whether a patient is sufferingfrom this condition\n",
    "    - Handcap: indicates whether the patient is physically handcapped\n",
    "    - SMS_received: whether they received a message notofication\n",
    "    - No_show: if yes the patient did not show up, if no they showed up\n",
    "        \n",
    "\n"
   ]
  },
  {
   "cell_type": "markdown",
   "id": "6798273c",
   "metadata": {},
   "source": [
    "## 2.1 Load Data and Libraries"
   ]
  },
  {
   "cell_type": "code",
   "execution_count": 17,
   "id": "27a45461",
   "metadata": {},
   "outputs": [],
   "source": [
    "#Load the required libraries for analysis\n",
    "\n",
    "import pandas as pd\n",
    "import numpy as np \n",
    "import matplotlib.pyplot as plt\n",
    "%matplotlib inline\n",
    "import seaborn as sns \n",
    "\n",
    "\n",
    "df = pd.read_csv(\"noshowappointments_kagglev2_may_2016.csv\")\n"
   ]
  },
  {
   "cell_type": "markdown",
   "id": "70a380a7",
   "metadata": {},
   "source": [
    "\n",
    "## 2.2 Overview of the  Data\n",
    "We will have a quick overview to know what the data looks like.\n"
   ]
  },
  {
   "cell_type": "code",
   "execution_count": 18,
   "id": "50f07b9b",
   "metadata": {},
   "outputs": [
    {
     "data": {
      "text/html": [
       "<div>\n",
       "<style scoped>\n",
       "    .dataframe tbody tr th:only-of-type {\n",
       "        vertical-align: middle;\n",
       "    }\n",
       "\n",
       "    .dataframe tbody tr th {\n",
       "        vertical-align: top;\n",
       "    }\n",
       "\n",
       "    .dataframe thead th {\n",
       "        text-align: right;\n",
       "    }\n",
       "</style>\n",
       "<table border=\"1\" class=\"dataframe\">\n",
       "  <thead>\n",
       "    <tr style=\"text-align: right;\">\n",
       "      <th></th>\n",
       "      <th>PatientId</th>\n",
       "      <th>AppointmentID</th>\n",
       "      <th>Gender</th>\n",
       "      <th>ScheduledDay</th>\n",
       "      <th>AppointmentDay</th>\n",
       "      <th>Age</th>\n",
       "      <th>Neighbourhood</th>\n",
       "      <th>Scholarship</th>\n",
       "      <th>Hipertension</th>\n",
       "      <th>Diabetes</th>\n",
       "      <th>Alcoholism</th>\n",
       "      <th>Handcap</th>\n",
       "      <th>SMS_received</th>\n",
       "      <th>No-show</th>\n",
       "    </tr>\n",
       "  </thead>\n",
       "  <tbody>\n",
       "    <tr>\n",
       "      <th>0</th>\n",
       "      <td>2.987250e+13</td>\n",
       "      <td>5642903</td>\n",
       "      <td>F</td>\n",
       "      <td>2016-04-29T18:38:08Z</td>\n",
       "      <td>2016-04-29T00:00:00Z</td>\n",
       "      <td>62</td>\n",
       "      <td>JARDIM DA PENHA</td>\n",
       "      <td>0</td>\n",
       "      <td>1</td>\n",
       "      <td>0</td>\n",
       "      <td>0</td>\n",
       "      <td>0</td>\n",
       "      <td>0</td>\n",
       "      <td>No</td>\n",
       "    </tr>\n",
       "    <tr>\n",
       "      <th>1</th>\n",
       "      <td>5.589978e+14</td>\n",
       "      <td>5642503</td>\n",
       "      <td>M</td>\n",
       "      <td>2016-04-29T16:08:27Z</td>\n",
       "      <td>2016-04-29T00:00:00Z</td>\n",
       "      <td>56</td>\n",
       "      <td>JARDIM DA PENHA</td>\n",
       "      <td>0</td>\n",
       "      <td>0</td>\n",
       "      <td>0</td>\n",
       "      <td>0</td>\n",
       "      <td>0</td>\n",
       "      <td>0</td>\n",
       "      <td>No</td>\n",
       "    </tr>\n",
       "    <tr>\n",
       "      <th>2</th>\n",
       "      <td>4.262962e+12</td>\n",
       "      <td>5642549</td>\n",
       "      <td>F</td>\n",
       "      <td>2016-04-29T16:19:04Z</td>\n",
       "      <td>2016-04-29T00:00:00Z</td>\n",
       "      <td>62</td>\n",
       "      <td>MATA DA PRAIA</td>\n",
       "      <td>0</td>\n",
       "      <td>0</td>\n",
       "      <td>0</td>\n",
       "      <td>0</td>\n",
       "      <td>0</td>\n",
       "      <td>0</td>\n",
       "      <td>No</td>\n",
       "    </tr>\n",
       "    <tr>\n",
       "      <th>3</th>\n",
       "      <td>8.679512e+11</td>\n",
       "      <td>5642828</td>\n",
       "      <td>F</td>\n",
       "      <td>2016-04-29T17:29:31Z</td>\n",
       "      <td>2016-04-29T00:00:00Z</td>\n",
       "      <td>8</td>\n",
       "      <td>PONTAL DE CAMBURI</td>\n",
       "      <td>0</td>\n",
       "      <td>0</td>\n",
       "      <td>0</td>\n",
       "      <td>0</td>\n",
       "      <td>0</td>\n",
       "      <td>0</td>\n",
       "      <td>No</td>\n",
       "    </tr>\n",
       "    <tr>\n",
       "      <th>4</th>\n",
       "      <td>8.841186e+12</td>\n",
       "      <td>5642494</td>\n",
       "      <td>F</td>\n",
       "      <td>2016-04-29T16:07:23Z</td>\n",
       "      <td>2016-04-29T00:00:00Z</td>\n",
       "      <td>56</td>\n",
       "      <td>JARDIM DA PENHA</td>\n",
       "      <td>0</td>\n",
       "      <td>1</td>\n",
       "      <td>1</td>\n",
       "      <td>0</td>\n",
       "      <td>0</td>\n",
       "      <td>0</td>\n",
       "      <td>No</td>\n",
       "    </tr>\n",
       "  </tbody>\n",
       "</table>\n",
       "</div>"
      ],
      "text/plain": [
       "      PatientId  AppointmentID Gender          ScheduledDay  \\\n",
       "0  2.987250e+13        5642903      F  2016-04-29T18:38:08Z   \n",
       "1  5.589978e+14        5642503      M  2016-04-29T16:08:27Z   \n",
       "2  4.262962e+12        5642549      F  2016-04-29T16:19:04Z   \n",
       "3  8.679512e+11        5642828      F  2016-04-29T17:29:31Z   \n",
       "4  8.841186e+12        5642494      F  2016-04-29T16:07:23Z   \n",
       "\n",
       "         AppointmentDay  Age      Neighbourhood  Scholarship  Hipertension  \\\n",
       "0  2016-04-29T00:00:00Z   62    JARDIM DA PENHA            0             1   \n",
       "1  2016-04-29T00:00:00Z   56    JARDIM DA PENHA            0             0   \n",
       "2  2016-04-29T00:00:00Z   62      MATA DA PRAIA            0             0   \n",
       "3  2016-04-29T00:00:00Z    8  PONTAL DE CAMBURI            0             0   \n",
       "4  2016-04-29T00:00:00Z   56    JARDIM DA PENHA            0             1   \n",
       "\n",
       "   Diabetes  Alcoholism  Handcap  SMS_received No-show  \n",
       "0         0           0        0             0      No  \n",
       "1         0           0        0             0      No  \n",
       "2         0           0        0             0      No  \n",
       "3         0           0        0             0      No  \n",
       "4         1           0        0             0      No  "
      ]
     },
     "execution_count": 18,
     "metadata": {},
     "output_type": "execute_result"
    }
   ],
   "source": [
    "#Summary of the first five rows\n",
    "df.head()\n"
   ]
  },
  {
   "cell_type": "code",
   "execution_count": 19,
   "id": "1c19c730",
   "metadata": {},
   "outputs": [
    {
     "data": {
      "text/plain": [
       "(110527, 14)"
      ]
     },
     "execution_count": 19,
     "metadata": {},
     "output_type": "execute_result"
    }
   ],
   "source": [
    "\n",
    "#Number of rows and columns \n",
    "df.shape"
   ]
  },
  {
   "cell_type": "code",
   "execution_count": 20,
   "id": "d64b7a45",
   "metadata": {},
   "outputs": [
    {
     "name": "stdout",
     "output_type": "stream",
     "text": [
      "<class 'pandas.core.frame.DataFrame'>\n",
      "RangeIndex: 110527 entries, 0 to 110526\n",
      "Data columns (total 14 columns):\n",
      " #   Column          Non-Null Count   Dtype  \n",
      "---  ------          --------------   -----  \n",
      " 0   PatientId       110527 non-null  float64\n",
      " 1   AppointmentID   110527 non-null  int64  \n",
      " 2   Gender          110527 non-null  object \n",
      " 3   ScheduledDay    110527 non-null  object \n",
      " 4   AppointmentDay  110527 non-null  object \n",
      " 5   Age             110527 non-null  int64  \n",
      " 6   Neighbourhood   110527 non-null  object \n",
      " 7   Scholarship     110527 non-null  int64  \n",
      " 8   Hipertension    110527 non-null  int64  \n",
      " 9   Diabetes        110527 non-null  int64  \n",
      " 10  Alcoholism      110527 non-null  int64  \n",
      " 11  Handcap         110527 non-null  int64  \n",
      " 12  SMS_received    110527 non-null  int64  \n",
      " 13  No-show         110527 non-null  object \n",
      "dtypes: float64(1), int64(8), object(5)\n",
      "memory usage: 11.8+ MB\n"
     ]
    }
   ],
   "source": [
    "\n",
    "#Description of the data\n",
    "df.info()\n"
   ]
  },
  {
   "cell_type": "markdown",
   "id": "914ce981",
   "metadata": {},
   "source": [
    "\n",
    "The data seems to be fine and we therefore move to the next process which is Data Wrangling."
   ]
  },
  {
   "cell_type": "markdown",
   "id": "0c753134",
   "metadata": {},
   "source": [
    "## 2.3 Renaming columns"
   ]
  },
  {
   "cell_type": "code",
   "execution_count": 33,
   "id": "d3999e83",
   "metadata": {},
   "outputs": [],
   "source": [
    "#Writing a function to rename columns of the data"
   ]
  },
  {
   "cell_type": "code",
   "execution_count": 34,
   "id": "bf9c1286",
   "metadata": {},
   "outputs": [],
   "source": [
    "\n",
    "#Changing column names to lower case\n",
    "def df_rename_cols(df,col_name_dict):\n",
    "    df.rename(columns=col_name_dict,inplace=True)\n"
   ]
  },
  {
   "cell_type": "code",
   "execution_count": 35,
   "id": "acd822a4",
   "metadata": {},
   "outputs": [],
   "source": [
    "df_rename_cols(df,lambda x:x.lower().replace('-','_'))"
   ]
  },
  {
   "cell_type": "code",
   "execution_count": 36,
   "id": "11d29197",
   "metadata": {},
   "outputs": [],
   "source": [
    "#Renaming columns\n",
    "df.rename(columns = {'patient_id': 'patient_id', 'appointmentid' : 'appointment_id', 'scheduledday' : 'scheduled_day', 'hipertension' : 'hypertension', 'handcap' : 'handicap', 'appointmentday' : 'appointment_day', 'no-show' : 'no_show' }, inplace=True)\n"
   ]
  },
  {
   "cell_type": "code",
   "execution_count": 37,
   "id": "a040939b",
   "metadata": {},
   "outputs": [
    {
     "data": {
      "text/html": [
       "<div>\n",
       "<style scoped>\n",
       "    .dataframe tbody tr th:only-of-type {\n",
       "        vertical-align: middle;\n",
       "    }\n",
       "\n",
       "    .dataframe tbody tr th {\n",
       "        vertical-align: top;\n",
       "    }\n",
       "\n",
       "    .dataframe thead th {\n",
       "        text-align: right;\n",
       "    }\n",
       "</style>\n",
       "<table border=\"1\" class=\"dataframe\">\n",
       "  <thead>\n",
       "    <tr style=\"text-align: right;\">\n",
       "      <th></th>\n",
       "      <th>patientid</th>\n",
       "      <th>appointment_id</th>\n",
       "      <th>gender</th>\n",
       "      <th>scheduled_day</th>\n",
       "      <th>appointment_day</th>\n",
       "      <th>age</th>\n",
       "      <th>neighbourhood</th>\n",
       "      <th>scholarship</th>\n",
       "      <th>hypertension</th>\n",
       "      <th>diabetes</th>\n",
       "      <th>alcoholism</th>\n",
       "      <th>handicap</th>\n",
       "      <th>sms_received</th>\n",
       "      <th>no_show</th>\n",
       "    </tr>\n",
       "  </thead>\n",
       "  <tbody>\n",
       "    <tr>\n",
       "      <th>0</th>\n",
       "      <td>2.987250e+13</td>\n",
       "      <td>5642903</td>\n",
       "      <td>F</td>\n",
       "      <td>2016-04-29T18:38:08Z</td>\n",
       "      <td>2016-04-29T00:00:00Z</td>\n",
       "      <td>62</td>\n",
       "      <td>JARDIM DA PENHA</td>\n",
       "      <td>0</td>\n",
       "      <td>1</td>\n",
       "      <td>0</td>\n",
       "      <td>0</td>\n",
       "      <td>0</td>\n",
       "      <td>0</td>\n",
       "      <td>No</td>\n",
       "    </tr>\n",
       "    <tr>\n",
       "      <th>1</th>\n",
       "      <td>5.589978e+14</td>\n",
       "      <td>5642503</td>\n",
       "      <td>M</td>\n",
       "      <td>2016-04-29T16:08:27Z</td>\n",
       "      <td>2016-04-29T00:00:00Z</td>\n",
       "      <td>56</td>\n",
       "      <td>JARDIM DA PENHA</td>\n",
       "      <td>0</td>\n",
       "      <td>0</td>\n",
       "      <td>0</td>\n",
       "      <td>0</td>\n",
       "      <td>0</td>\n",
       "      <td>0</td>\n",
       "      <td>No</td>\n",
       "    </tr>\n",
       "    <tr>\n",
       "      <th>2</th>\n",
       "      <td>4.262962e+12</td>\n",
       "      <td>5642549</td>\n",
       "      <td>F</td>\n",
       "      <td>2016-04-29T16:19:04Z</td>\n",
       "      <td>2016-04-29T00:00:00Z</td>\n",
       "      <td>62</td>\n",
       "      <td>MATA DA PRAIA</td>\n",
       "      <td>0</td>\n",
       "      <td>0</td>\n",
       "      <td>0</td>\n",
       "      <td>0</td>\n",
       "      <td>0</td>\n",
       "      <td>0</td>\n",
       "      <td>No</td>\n",
       "    </tr>\n",
       "    <tr>\n",
       "      <th>3</th>\n",
       "      <td>8.679512e+11</td>\n",
       "      <td>5642828</td>\n",
       "      <td>F</td>\n",
       "      <td>2016-04-29T17:29:31Z</td>\n",
       "      <td>2016-04-29T00:00:00Z</td>\n",
       "      <td>8</td>\n",
       "      <td>PONTAL DE CAMBURI</td>\n",
       "      <td>0</td>\n",
       "      <td>0</td>\n",
       "      <td>0</td>\n",
       "      <td>0</td>\n",
       "      <td>0</td>\n",
       "      <td>0</td>\n",
       "      <td>No</td>\n",
       "    </tr>\n",
       "  </tbody>\n",
       "</table>\n",
       "</div>"
      ],
      "text/plain": [
       "      patientid  appointment_id gender         scheduled_day  \\\n",
       "0  2.987250e+13         5642903      F  2016-04-29T18:38:08Z   \n",
       "1  5.589978e+14         5642503      M  2016-04-29T16:08:27Z   \n",
       "2  4.262962e+12         5642549      F  2016-04-29T16:19:04Z   \n",
       "3  8.679512e+11         5642828      F  2016-04-29T17:29:31Z   \n",
       "\n",
       "        appointment_day  age      neighbourhood  scholarship  hypertension  \\\n",
       "0  2016-04-29T00:00:00Z   62    JARDIM DA PENHA            0             1   \n",
       "1  2016-04-29T00:00:00Z   56    JARDIM DA PENHA            0             0   \n",
       "2  2016-04-29T00:00:00Z   62      MATA DA PRAIA            0             0   \n",
       "3  2016-04-29T00:00:00Z    8  PONTAL DE CAMBURI            0             0   \n",
       "\n",
       "   diabetes  alcoholism  handicap  sms_received no_show  \n",
       "0         0           0         0             0      No  \n",
       "1         0           0         0             0      No  \n",
       "2         0           0         0             0      No  \n",
       "3         0           0         0             0      No  "
      ]
     },
     "execution_count": 37,
     "metadata": {},
     "output_type": "execute_result"
    }
   ],
   "source": [
    "#Confirming changes\n",
    "df.head(4)"
   ]
  },
  {
   "cell_type": "markdown",
   "id": "deea74ee",
   "metadata": {},
   "source": [
    "\n",
    "# 3.0 Data Wrangling"
   ]
  },
  {
   "cell_type": "code",
   "execution_count": 92,
   "id": "def36659",
   "metadata": {},
   "outputs": [
    {
     "data": {
      "text/plain": [
       "patientid          0\n",
       "appointment_id     0\n",
       "gender             0\n",
       "scheduled_day      0\n",
       "appointment_day    0\n",
       "age                0\n",
       "neighbourhood      0\n",
       "scholarship        0\n",
       "hypertension       0\n",
       "diabetes           0\n",
       "alcoholism         0\n",
       "handicap           0\n",
       "sms_received       0\n",
       "no_show            0\n",
       "dtype: int64"
      ]
     },
     "execution_count": 92,
     "metadata": {},
     "output_type": "execute_result"
    }
   ],
   "source": [
    "#Checking for missing data\n",
    "df.isnull().sum()\n"
   ]
  },
  {
   "cell_type": "code",
   "execution_count": 93,
   "id": "65746306",
   "metadata": {},
   "outputs": [
    {
     "data": {
      "text/plain": [
       "0"
      ]
     },
     "execution_count": 93,
     "metadata": {},
     "output_type": "execute_result"
    }
   ],
   "source": [
    "#Checking for duplicates\n",
    "df.duplicated().sum()\n"
   ]
  },
  {
   "cell_type": "code",
   "execution_count": 94,
   "id": "8c0965e7",
   "metadata": {},
   "outputs": [
    {
     "data": {
      "text/plain": [
       "patientid          float64\n",
       "appointment_id       int64\n",
       "gender              object\n",
       "scheduled_day       object\n",
       "appointment_day     object\n",
       "age                  int64\n",
       "neighbourhood       object\n",
       "scholarship          int64\n",
       "hypertension         int64\n",
       "diabetes             int64\n",
       "alcoholism           int64\n",
       "handicap             int64\n",
       "sms_received         int64\n",
       "no_show             object\n",
       "dtype: object"
      ]
     },
     "execution_count": 94,
     "metadata": {},
     "output_type": "execute_result"
    }
   ],
   "source": [
    "#Checking for data types of columns\n",
    "df.dtypes"
   ]
  },
  {
   "cell_type": "code",
   "execution_count": 95,
   "id": "94b0c204",
   "metadata": {},
   "outputs": [
    {
     "data": {
      "text/plain": [
       "F    71840\n",
       "M    38687\n",
       "Name: gender, dtype: int64"
      ]
     },
     "execution_count": 95,
     "metadata": {},
     "output_type": "execute_result"
    }
   ],
   "source": [
    "#Assertaining data types\n",
    "df['gender'].value_counts()"
   ]
  },
  {
   "cell_type": "code",
   "execution_count": 96,
   "id": "a36edac7",
   "metadata": {},
   "outputs": [
    {
     "data": {
      "text/plain": [
       "JARDIM CAMBURI                 7717\n",
       "MARIA ORTIZ                    5805\n",
       "RESISTÊNCIA                    4431\n",
       "JARDIM DA PENHA                3877\n",
       "ITARARÉ                        3514\n",
       "                               ... \n",
       "ILHA DO BOI                      35\n",
       "ILHA DO FRADE                    10\n",
       "AEROPORTO                         8\n",
       "ILHAS OCEÂNICAS DE TRINDADE       2\n",
       "PARQUE INDUSTRIAL                 1\n",
       "Name: neighbourhood, Length: 81, dtype: int64"
      ]
     },
     "execution_count": 96,
     "metadata": {},
     "output_type": "execute_result"
    }
   ],
   "source": [
    "#Neigbourhood where patients come from\n",
    "df['neighbourhood'].value_counts()\n"
   ]
  },
  {
   "cell_type": "markdown",
   "id": "c0f1471e",
   "metadata": {},
   "source": [
    "There are 81 neighbourhoods from which the patients came from. Therefore, the patients need to be categorised according to their locality.\n"
   ]
  },
  {
   "cell_type": "code",
   "execution_count": 97,
   "id": "37d6a01a",
   "metadata": {},
   "outputs": [
    {
     "data": {
      "text/plain": [
       "0    108286\n",
       "1      2042\n",
       "2       183\n",
       "3        13\n",
       "4         3\n",
       "Name: handicap, dtype: int64"
      ]
     },
     "execution_count": 97,
     "metadata": {},
     "output_type": "execute_result"
    }
   ],
   "source": [
    "df['handicap'].value_counts()"
   ]
  },
  {
   "cell_type": "code",
   "execution_count": 99,
   "id": "201b6c43",
   "metadata": {},
   "outputs": [
    {
     "data": {
      "text/html": [
       "<div>\n",
       "<style scoped>\n",
       "    .dataframe tbody tr th:only-of-type {\n",
       "        vertical-align: middle;\n",
       "    }\n",
       "\n",
       "    .dataframe tbody tr th {\n",
       "        vertical-align: top;\n",
       "    }\n",
       "\n",
       "    .dataframe thead th {\n",
       "        text-align: right;\n",
       "    }\n",
       "</style>\n",
       "<table border=\"1\" class=\"dataframe\">\n",
       "  <thead>\n",
       "    <tr style=\"text-align: right;\">\n",
       "      <th></th>\n",
       "      <th>patientid</th>\n",
       "      <th>appointment_id</th>\n",
       "      <th>age</th>\n",
       "      <th>scholarship</th>\n",
       "      <th>hypertension</th>\n",
       "      <th>diabetes</th>\n",
       "      <th>alcoholism</th>\n",
       "      <th>handicap</th>\n",
       "      <th>sms_received</th>\n",
       "    </tr>\n",
       "  </thead>\n",
       "  <tbody>\n",
       "    <tr>\n",
       "      <th>count</th>\n",
       "      <td>1.105270e+05</td>\n",
       "      <td>1.105270e+05</td>\n",
       "      <td>110527.000000</td>\n",
       "      <td>110527.000000</td>\n",
       "      <td>110527.000000</td>\n",
       "      <td>110527.000000</td>\n",
       "      <td>110527.000000</td>\n",
       "      <td>110527.000000</td>\n",
       "      <td>110527.000000</td>\n",
       "    </tr>\n",
       "    <tr>\n",
       "      <th>mean</th>\n",
       "      <td>1.474963e+14</td>\n",
       "      <td>5.675305e+06</td>\n",
       "      <td>37.088874</td>\n",
       "      <td>0.098266</td>\n",
       "      <td>0.197246</td>\n",
       "      <td>0.071865</td>\n",
       "      <td>0.030400</td>\n",
       "      <td>0.022248</td>\n",
       "      <td>0.321026</td>\n",
       "    </tr>\n",
       "    <tr>\n",
       "      <th>std</th>\n",
       "      <td>2.560949e+14</td>\n",
       "      <td>7.129575e+04</td>\n",
       "      <td>23.110205</td>\n",
       "      <td>0.297675</td>\n",
       "      <td>0.397921</td>\n",
       "      <td>0.258265</td>\n",
       "      <td>0.171686</td>\n",
       "      <td>0.161543</td>\n",
       "      <td>0.466873</td>\n",
       "    </tr>\n",
       "    <tr>\n",
       "      <th>min</th>\n",
       "      <td>3.921784e+04</td>\n",
       "      <td>5.030230e+06</td>\n",
       "      <td>-1.000000</td>\n",
       "      <td>0.000000</td>\n",
       "      <td>0.000000</td>\n",
       "      <td>0.000000</td>\n",
       "      <td>0.000000</td>\n",
       "      <td>0.000000</td>\n",
       "      <td>0.000000</td>\n",
       "    </tr>\n",
       "    <tr>\n",
       "      <th>25%</th>\n",
       "      <td>4.172614e+12</td>\n",
       "      <td>5.640286e+06</td>\n",
       "      <td>18.000000</td>\n",
       "      <td>0.000000</td>\n",
       "      <td>0.000000</td>\n",
       "      <td>0.000000</td>\n",
       "      <td>0.000000</td>\n",
       "      <td>0.000000</td>\n",
       "      <td>0.000000</td>\n",
       "    </tr>\n",
       "    <tr>\n",
       "      <th>50%</th>\n",
       "      <td>3.173184e+13</td>\n",
       "      <td>5.680573e+06</td>\n",
       "      <td>37.000000</td>\n",
       "      <td>0.000000</td>\n",
       "      <td>0.000000</td>\n",
       "      <td>0.000000</td>\n",
       "      <td>0.000000</td>\n",
       "      <td>0.000000</td>\n",
       "      <td>0.000000</td>\n",
       "    </tr>\n",
       "    <tr>\n",
       "      <th>75%</th>\n",
       "      <td>9.439172e+13</td>\n",
       "      <td>5.725524e+06</td>\n",
       "      <td>55.000000</td>\n",
       "      <td>0.000000</td>\n",
       "      <td>0.000000</td>\n",
       "      <td>0.000000</td>\n",
       "      <td>0.000000</td>\n",
       "      <td>0.000000</td>\n",
       "      <td>1.000000</td>\n",
       "    </tr>\n",
       "    <tr>\n",
       "      <th>max</th>\n",
       "      <td>9.999816e+14</td>\n",
       "      <td>5.790484e+06</td>\n",
       "      <td>115.000000</td>\n",
       "      <td>1.000000</td>\n",
       "      <td>1.000000</td>\n",
       "      <td>1.000000</td>\n",
       "      <td>1.000000</td>\n",
       "      <td>4.000000</td>\n",
       "      <td>1.000000</td>\n",
       "    </tr>\n",
       "  </tbody>\n",
       "</table>\n",
       "</div>"
      ],
      "text/plain": [
       "          patientid  appointment_id            age    scholarship  \\\n",
       "count  1.105270e+05    1.105270e+05  110527.000000  110527.000000   \n",
       "mean   1.474963e+14    5.675305e+06      37.088874       0.098266   \n",
       "std    2.560949e+14    7.129575e+04      23.110205       0.297675   \n",
       "min    3.921784e+04    5.030230e+06      -1.000000       0.000000   \n",
       "25%    4.172614e+12    5.640286e+06      18.000000       0.000000   \n",
       "50%    3.173184e+13    5.680573e+06      37.000000       0.000000   \n",
       "75%    9.439172e+13    5.725524e+06      55.000000       0.000000   \n",
       "max    9.999816e+14    5.790484e+06     115.000000       1.000000   \n",
       "\n",
       "        hypertension       diabetes     alcoholism       handicap  \\\n",
       "count  110527.000000  110527.000000  110527.000000  110527.000000   \n",
       "mean        0.197246       0.071865       0.030400       0.022248   \n",
       "std         0.397921       0.258265       0.171686       0.161543   \n",
       "min         0.000000       0.000000       0.000000       0.000000   \n",
       "25%         0.000000       0.000000       0.000000       0.000000   \n",
       "50%         0.000000       0.000000       0.000000       0.000000   \n",
       "75%         0.000000       0.000000       0.000000       0.000000   \n",
       "max         1.000000       1.000000       1.000000       4.000000   \n",
       "\n",
       "        sms_received  \n",
       "count  110527.000000  \n",
       "mean        0.321026  \n",
       "std         0.466873  \n",
       "min         0.000000  \n",
       "25%         0.000000  \n",
       "50%         0.000000  \n",
       "75%         1.000000  \n",
       "max         1.000000  "
      ]
     },
     "execution_count": 99,
     "metadata": {},
     "output_type": "execute_result"
    }
   ],
   "source": [
    "#Summary of the data\n",
    "df.describe()"
   ]
  },
  {
   "cell_type": "code",
   "execution_count": 100,
   "id": "df4c898a",
   "metadata": {},
   "outputs": [
    {
     "data": {
      "text/plain": [
       "-1"
      ]
     },
     "execution_count": 100,
     "metadata": {},
     "output_type": "execute_result"
    }
   ],
   "source": [
    "#Obtaining minimum age\n",
    "df['age'].min()"
   ]
  },
  {
   "cell_type": "markdown",
   "id": "86528035",
   "metadata": {},
   "source": [
    "There is an outlier in the age column. We cannot have a negative value for age (from the table, the minimum value of age is 1)\n",
    "We therefore change -1 to 1 since there might be an error when keying in the value."
   ]
  },
  {
   "cell_type": "code",
   "execution_count": 101,
   "id": "6f632fa8",
   "metadata": {},
   "outputs": [],
   "source": [
    "\n",
    "#If age is negative multiply it with -1 to be positive\n",
    "df[df['age'] < 0]\n",
    "df['age'] = df['age'].apply(lambda x: x*-1 if x < 0 else x)\n"
   ]
  },
  {
   "cell_type": "code",
   "execution_count": 102,
   "id": "774edc23",
   "metadata": {},
   "outputs": [
    {
     "data": {
      "text/plain": [
       "0"
      ]
     },
     "execution_count": 102,
     "metadata": {},
     "output_type": "execute_result"
    }
   ],
   "source": [
    "#Confirming changes made to age\n",
    "df['age'].min()"
   ]
  },
  {
   "cell_type": "markdown",
   "id": "4e6b2802",
   "metadata": {},
   "source": [
    "Age values which are 0 are assumed to be babies who are months old.\n",
    "\n"
   ]
  },
  {
   "cell_type": "code",
   "execution_count": 103,
   "id": "e27368a8",
   "metadata": {},
   "outputs": [
    {
     "data": {
      "text/plain": [
       "No     88208\n",
       "Yes    22319\n",
       "Name: no_show, dtype: int64"
      ]
     },
     "execution_count": 103,
     "metadata": {},
     "output_type": "execute_result"
    }
   ],
   "source": [
    "#Value counts for no show\n",
    "df['no_show'].value_counts()"
   ]
  },
  {
   "cell_type": "code",
   "execution_count": 104,
   "id": "7e50937f",
   "metadata": {},
   "outputs": [
    {
     "data": {
      "text/plain": [
       "0    88726\n",
       "1    21801\n",
       "Name: hypertension, dtype: int64"
      ]
     },
     "execution_count": 104,
     "metadata": {},
     "output_type": "execute_result"
    }
   ],
   "source": [
    "#Value counts for hypertension\n",
    "df['hypertension'].value_counts()"
   ]
  },
  {
   "cell_type": "code",
   "execution_count": 105,
   "id": "1651be37",
   "metadata": {},
   "outputs": [
    {
     "data": {
      "text/plain": [
       "0    107167\n",
       "1      3360\n",
       "Name: alcoholism, dtype: int64"
      ]
     },
     "execution_count": 105,
     "metadata": {},
     "output_type": "execute_result"
    }
   ],
   "source": [
    "#Value counts for alcoholism\n",
    "df['alcoholism'].value_counts()"
   ]
  },
  {
   "cell_type": "markdown",
   "id": "0f040e0c",
   "metadata": {},
   "source": [
    "No missing values or duplicates were encountered in the data. However, the data types of some of the columns are not correct. Their data types should be as follows:\n",
    "  * gender, neighbourhood and handicap need to be of \"category\" data type\n",
    "  * scholarship, hypertension, diabetes, alcoholism and sms_received need to be of \"bool\" data type\n",
    "  * scheduled_day and appointment_day need to be of \"datetime\" data type\n",
    "  * no_show column needs to depict 'No' as 0 and 'Yes' as 1  "
   ]
  },
  {
   "cell_type": "code",
   "execution_count": 106,
   "id": "13184301",
   "metadata": {},
   "outputs": [],
   "source": [
    "#Depict 'No' as 0 and 'yes' as 1\n",
    "df['no_show'].replace({'No' : 0, 'Yes' : 1}, inplace = True)"
   ]
  },
  {
   "cell_type": "code",
   "execution_count": 107,
   "id": "f78db6d2",
   "metadata": {},
   "outputs": [],
   "source": [
    "#Change data types for gender, neighbourhood and handicap\n",
    "for column in ['gender', 'neighbourhood', 'handicap'] :\n",
    "    df[column] = df[column].astype('category')\n",
    "    "
   ]
  },
  {
   "cell_type": "code",
   "execution_count": 108,
   "id": "d90aa74d",
   "metadata": {},
   "outputs": [],
   "source": [
    "#Change data type for scholarship, hypertension, diabetes, alcoholism and sms_received\n",
    "for column in ['scholarship', 'hypertension', 'diabetes', 'alcoholism', 'sms_received'] :\n",
    "    df[column] = df[column].astype('bool')\n",
    "    "
   ]
  },
  {
   "cell_type": "code",
   "execution_count": 109,
   "id": "baeeb4a7",
   "metadata": {},
   "outputs": [],
   "source": [
    "#Change data type for scheduled_day and appointment_day\n",
    "for column in ['scheduled_day', 'appointment_day']:\n",
    "    df[column] = pd.to_datetime(df[column])"
   ]
  },
  {
   "cell_type": "code",
   "execution_count": 111,
   "id": "c2141c2c",
   "metadata": {},
   "outputs": [],
   "source": [
    "#Dropping appointment_id column\n",
    "df.drop('appointment_id', axis=1, inplace=True)"
   ]
  },
  {
   "cell_type": "code",
   "execution_count": 113,
   "id": "e0b85046",
   "metadata": {},
   "outputs": [
    {
     "data": {
      "text/html": [
       "<div>\n",
       "<style scoped>\n",
       "    .dataframe tbody tr th:only-of-type {\n",
       "        vertical-align: middle;\n",
       "    }\n",
       "\n",
       "    .dataframe tbody tr th {\n",
       "        vertical-align: top;\n",
       "    }\n",
       "\n",
       "    .dataframe thead th {\n",
       "        text-align: right;\n",
       "    }\n",
       "</style>\n",
       "<table border=\"1\" class=\"dataframe\">\n",
       "  <thead>\n",
       "    <tr style=\"text-align: right;\">\n",
       "      <th></th>\n",
       "      <th>patientid</th>\n",
       "      <th>gender</th>\n",
       "      <th>scheduled_day</th>\n",
       "      <th>appointment_day</th>\n",
       "      <th>age</th>\n",
       "      <th>neighbourhood</th>\n",
       "      <th>scholarship</th>\n",
       "      <th>hypertension</th>\n",
       "      <th>diabetes</th>\n",
       "      <th>alcoholism</th>\n",
       "      <th>handicap</th>\n",
       "      <th>sms_received</th>\n",
       "      <th>no_show</th>\n",
       "    </tr>\n",
       "  </thead>\n",
       "  <tbody>\n",
       "    <tr>\n",
       "      <th>0</th>\n",
       "      <td>2.987250e+13</td>\n",
       "      <td>F</td>\n",
       "      <td>2016-04-29 18:38:08+00:00</td>\n",
       "      <td>2016-04-29 00:00:00+00:00</td>\n",
       "      <td>62</td>\n",
       "      <td>JARDIM DA PENHA</td>\n",
       "      <td>False</td>\n",
       "      <td>True</td>\n",
       "      <td>False</td>\n",
       "      <td>False</td>\n",
       "      <td>0</td>\n",
       "      <td>False</td>\n",
       "      <td>0</td>\n",
       "    </tr>\n",
       "    <tr>\n",
       "      <th>1</th>\n",
       "      <td>5.589978e+14</td>\n",
       "      <td>M</td>\n",
       "      <td>2016-04-29 16:08:27+00:00</td>\n",
       "      <td>2016-04-29 00:00:00+00:00</td>\n",
       "      <td>56</td>\n",
       "      <td>JARDIM DA PENHA</td>\n",
       "      <td>False</td>\n",
       "      <td>False</td>\n",
       "      <td>False</td>\n",
       "      <td>False</td>\n",
       "      <td>0</td>\n",
       "      <td>False</td>\n",
       "      <td>0</td>\n",
       "    </tr>\n",
       "    <tr>\n",
       "      <th>2</th>\n",
       "      <td>4.262962e+12</td>\n",
       "      <td>F</td>\n",
       "      <td>2016-04-29 16:19:04+00:00</td>\n",
       "      <td>2016-04-29 00:00:00+00:00</td>\n",
       "      <td>62</td>\n",
       "      <td>MATA DA PRAIA</td>\n",
       "      <td>False</td>\n",
       "      <td>False</td>\n",
       "      <td>False</td>\n",
       "      <td>False</td>\n",
       "      <td>0</td>\n",
       "      <td>False</td>\n",
       "      <td>0</td>\n",
       "    </tr>\n",
       "  </tbody>\n",
       "</table>\n",
       "</div>"
      ],
      "text/plain": [
       "      patientid gender             scheduled_day           appointment_day  \\\n",
       "0  2.987250e+13      F 2016-04-29 18:38:08+00:00 2016-04-29 00:00:00+00:00   \n",
       "1  5.589978e+14      M 2016-04-29 16:08:27+00:00 2016-04-29 00:00:00+00:00   \n",
       "2  4.262962e+12      F 2016-04-29 16:19:04+00:00 2016-04-29 00:00:00+00:00   \n",
       "\n",
       "   age    neighbourhood  scholarship  hypertension  diabetes  alcoholism  \\\n",
       "0   62  JARDIM DA PENHA        False          True     False       False   \n",
       "1   56  JARDIM DA PENHA        False         False     False       False   \n",
       "2   62    MATA DA PRAIA        False         False     False       False   \n",
       "\n",
       "  handicap  sms_received  no_show  \n",
       "0        0         False        0  \n",
       "1        0         False        0  \n",
       "2        0         False        0  "
      ]
     },
     "execution_count": 113,
     "metadata": {},
     "output_type": "execute_result"
    }
   ],
   "source": [
    "\n",
    "#Confirming the changes made to the data\n",
    "df.head(3)"
   ]
  },
  {
   "cell_type": "code",
   "execution_count": 115,
   "id": "62481b87",
   "metadata": {},
   "outputs": [
    {
     "data": {
      "text/plain": [
       "patientid                      float64\n",
       "gender                        category\n",
       "scheduled_day      datetime64[ns, UTC]\n",
       "appointment_day    datetime64[ns, UTC]\n",
       "age                              int64\n",
       "neighbourhood                 category\n",
       "scholarship                       bool\n",
       "hypertension                      bool\n",
       "diabetes                          bool\n",
       "alcoholism                        bool\n",
       "handicap                      category\n",
       "sms_received                      bool\n",
       "no_show                          int64\n",
       "dtype: object"
      ]
     },
     "execution_count": 115,
     "metadata": {},
     "output_type": "execute_result"
    }
   ],
   "source": [
    "#Confirming data types after changes\n",
    "df.dtypes"
   ]
  },
  {
   "cell_type": "markdown",
   "id": "7a0e7e2e",
   "metadata": {},
   "source": [
    "\n",
    "Since the data has been cleaned , we move to the next phase which is Exploratory Data Analysis(EDA)\n"
   ]
  },
  {
   "cell_type": "markdown",
   "id": "9ef44096",
   "metadata": {},
   "source": [
    "\n",
    "#  4.0 Exploratory Data Analysis\n",
    "\n",
    "In this phase, we are going to use statistical analysis and visualizations to establish features that are likely to influence whether a patient shows up for an appointment or not.\n",
    "In particular, we are going to answer the following questions:\n",
    "\n",
    "1. What factors are important for us to know in order to predict whether a patient will show up for their scheduled appointment?\n",
    "2. Is the age likely to affect a patient's showing up for a scheduled appointment?\n",
    "3. Which gender is more likely not to show up for their scheduled appointment?\n",
    "4. Do patients suffering from hypertension likely to whow up for their appointments?"
   ]
  },
  {
   "cell_type": "markdown",
   "id": "b078ff12",
   "metadata": {},
   "source": [
    "### 4.1 What factors are important for us to know in order to predict whether a patient will show up for th eir scheduled appointment?"
   ]
  },
  {
   "cell_type": "code",
   "execution_count": 116,
   "id": "a0189394",
   "metadata": {},
   "outputs": [
    {
     "data": {
      "text/html": [
       "<style type=\"text/css\">\n",
       "#T_5e6ad_row0_col0, #T_5e6ad_row1_col1, #T_5e6ad_row2_col2, #T_5e6ad_row3_col3, #T_5e6ad_row4_col4, #T_5e6ad_row5_col5, #T_5e6ad_row6_col6, #T_5e6ad_row7_col7 {\n",
       "  background-color: #67000d;\n",
       "  color: #f1f1f1;\n",
       "}\n",
       "#T_5e6ad_row0_col1, #T_5e6ad_row0_col2 {\n",
       "  background-color: #fee8dd;\n",
       "  color: #000000;\n",
       "}\n",
       "#T_5e6ad_row0_col3, #T_5e6ad_row6_col3, #T_5e6ad_row7_col1 {\n",
       "  background-color: #fff0e9;\n",
       "  color: #000000;\n",
       "}\n",
       "#T_5e6ad_row0_col4, #T_5e6ad_row2_col6, #T_5e6ad_row7_col5 {\n",
       "  background-color: #fff1ea;\n",
       "  color: #000000;\n",
       "}\n",
       "#T_5e6ad_row0_col5, #T_5e6ad_row1_col6 {\n",
       "  background-color: #ffefe8;\n",
       "  color: #000000;\n",
       "}\n",
       "#T_5e6ad_row0_col6, #T_5e6ad_row3_col6 {\n",
       "  background-color: #fff2ec;\n",
       "  color: #000000;\n",
       "}\n",
       "#T_5e6ad_row0_col7, #T_5e6ad_row5_col7 {\n",
       "  background-color: #ffece3;\n",
       "  color: #000000;\n",
       "}\n",
       "#T_5e6ad_row1_col0, #T_5e6ad_row2_col0 {\n",
       "  background-color: #fff4ef;\n",
       "  color: #000000;\n",
       "}\n",
       "#T_5e6ad_row1_col2, #T_5e6ad_row1_col7, #T_5e6ad_row2_col1, #T_5e6ad_row2_col4, #T_5e6ad_row3_col0, #T_5e6ad_row5_col6, #T_5e6ad_row6_col0, #T_5e6ad_row6_col5, #T_5e6ad_row7_col3 {\n",
       "  background-color: #fff5f0;\n",
       "  color: #000000;\n",
       "}\n",
       "#T_5e6ad_row1_col3 {\n",
       "  background-color: #f96245;\n",
       "  color: #f1f1f1;\n",
       "}\n",
       "#T_5e6ad_row1_col4 {\n",
       "  background-color: #fca78b;\n",
       "  color: #000000;\n",
       "}\n",
       "#T_5e6ad_row1_col5, #T_5e6ad_row5_col3 {\n",
       "  background-color: #fee1d4;\n",
       "  color: #000000;\n",
       "}\n",
       "#T_5e6ad_row2_col3 {\n",
       "  background-color: #fff3ed;\n",
       "  color: #000000;\n",
       "}\n",
       "#T_5e6ad_row2_col5, #T_5e6ad_row4_col2 {\n",
       "  background-color: #ffebe2;\n",
       "  color: #000000;\n",
       "}\n",
       "#T_5e6ad_row2_col7, #T_5e6ad_row6_col2 {\n",
       "  background-color: #fee7dc;\n",
       "  color: #000000;\n",
       "}\n",
       "#T_5e6ad_row3_col1 {\n",
       "  background-color: #f7593f;\n",
       "  color: #f1f1f1;\n",
       "}\n",
       "#T_5e6ad_row3_col2 {\n",
       "  background-color: #feeae0;\n",
       "  color: #000000;\n",
       "}\n",
       "#T_5e6ad_row3_col4 {\n",
       "  background-color: #fb7b5b;\n",
       "  color: #f1f1f1;\n",
       "}\n",
       "#T_5e6ad_row3_col5, #T_5e6ad_row7_col2 {\n",
       "  background-color: #fee3d6;\n",
       "  color: #000000;\n",
       "}\n",
       "#T_5e6ad_row3_col7, #T_5e6ad_row5_col0 {\n",
       "  background-color: #fff2eb;\n",
       "  color: #000000;\n",
       "}\n",
       "#T_5e6ad_row4_col0, #T_5e6ad_row4_col6, #T_5e6ad_row6_col4, #T_5e6ad_row7_col0, #T_5e6ad_row7_col4 {\n",
       "  background-color: #fff4ee;\n",
       "  color: #000000;\n",
       "}\n",
       "#T_5e6ad_row4_col1 {\n",
       "  background-color: #fc997a;\n",
       "  color: #000000;\n",
       "}\n",
       "#T_5e6ad_row4_col3 {\n",
       "  background-color: #fb7a5a;\n",
       "  color: #f1f1f1;\n",
       "}\n",
       "#T_5e6ad_row4_col5 {\n",
       "  background-color: #ffeee6;\n",
       "  color: #000000;\n",
       "}\n",
       "#T_5e6ad_row4_col7, #T_5e6ad_row5_col4 {\n",
       "  background-color: #ffeee7;\n",
       "  color: #000000;\n",
       "}\n",
       "#T_5e6ad_row5_col1 {\n",
       "  background-color: #fdd2bf;\n",
       "  color: #000000;\n",
       "}\n",
       "#T_5e6ad_row5_col2 {\n",
       "  background-color: #fee2d5;\n",
       "  color: #000000;\n",
       "}\n",
       "#T_5e6ad_row6_col1 {\n",
       "  background-color: #fee5d9;\n",
       "  color: #000000;\n",
       "}\n",
       "#T_5e6ad_row6_col7 {\n",
       "  background-color: #fdd1be;\n",
       "  color: #000000;\n",
       "}\n",
       "#T_5e6ad_row7_col6 {\n",
       "  background-color: #fed9c9;\n",
       "  color: #000000;\n",
       "}\n",
       "</style>\n",
       "<table id=\"T_5e6ad\">\n",
       "  <thead>\n",
       "    <tr>\n",
       "      <th class=\"blank level0\" >&nbsp;</th>\n",
       "      <th id=\"T_5e6ad_level0_col0\" class=\"col_heading level0 col0\" >patientid</th>\n",
       "      <th id=\"T_5e6ad_level0_col1\" class=\"col_heading level0 col1\" >age</th>\n",
       "      <th id=\"T_5e6ad_level0_col2\" class=\"col_heading level0 col2\" >scholarship</th>\n",
       "      <th id=\"T_5e6ad_level0_col3\" class=\"col_heading level0 col3\" >hypertension</th>\n",
       "      <th id=\"T_5e6ad_level0_col4\" class=\"col_heading level0 col4\" >diabetes</th>\n",
       "      <th id=\"T_5e6ad_level0_col5\" class=\"col_heading level0 col5\" >alcoholism</th>\n",
       "      <th id=\"T_5e6ad_level0_col6\" class=\"col_heading level0 col6\" >sms_received</th>\n",
       "      <th id=\"T_5e6ad_level0_col7\" class=\"col_heading level0 col7\" >no_show</th>\n",
       "    </tr>\n",
       "  </thead>\n",
       "  <tbody>\n",
       "    <tr>\n",
       "      <th id=\"T_5e6ad_level0_row0\" class=\"row_heading level0 row0\" >patientid</th>\n",
       "      <td id=\"T_5e6ad_row0_col0\" class=\"data row0 col0\" >1.000000</td>\n",
       "      <td id=\"T_5e6ad_row0_col1\" class=\"data row0 col1\" >-0.004138</td>\n",
       "      <td id=\"T_5e6ad_row0_col2\" class=\"data row0 col2\" >-0.002880</td>\n",
       "      <td id=\"T_5e6ad_row0_col3\" class=\"data row0 col3\" >-0.006441</td>\n",
       "      <td id=\"T_5e6ad_row0_col4\" class=\"data row0 col4\" >0.001605</td>\n",
       "      <td id=\"T_5e6ad_row0_col5\" class=\"data row0 col5\" >0.011011</td>\n",
       "      <td id=\"T_5e6ad_row0_col6\" class=\"data row0 col6\" >-0.009749</td>\n",
       "      <td id=\"T_5e6ad_row0_col7\" class=\"data row0 col7\" >-0.001461</td>\n",
       "    </tr>\n",
       "    <tr>\n",
       "      <th id=\"T_5e6ad_level0_row1\" class=\"row_heading level0 row1\" >age</th>\n",
       "      <td id=\"T_5e6ad_row1_col0\" class=\"data row1 col0\" >-0.004138</td>\n",
       "      <td id=\"T_5e6ad_row1_col1\" class=\"data row1 col1\" >1.000000</td>\n",
       "      <td id=\"T_5e6ad_row1_col2\" class=\"data row1 col2\" >-0.092458</td>\n",
       "      <td id=\"T_5e6ad_row1_col3\" class=\"data row1 col3\" >0.504586</td>\n",
       "      <td id=\"T_5e6ad_row1_col4\" class=\"data row1 col4\" >0.292392</td>\n",
       "      <td id=\"T_5e6ad_row1_col5\" class=\"data row1 col5\" >0.095811</td>\n",
       "      <td id=\"T_5e6ad_row1_col6\" class=\"data row1 col6\" >0.012643</td>\n",
       "      <td id=\"T_5e6ad_row1_col7\" class=\"data row1 col7\" >-0.060319</td>\n",
       "    </tr>\n",
       "    <tr>\n",
       "      <th id=\"T_5e6ad_level0_row2\" class=\"row_heading level0 row2\" >scholarship</th>\n",
       "      <td id=\"T_5e6ad_row2_col0\" class=\"data row2 col0\" >-0.002880</td>\n",
       "      <td id=\"T_5e6ad_row2_col1\" class=\"data row2 col1\" >-0.092458</td>\n",
       "      <td id=\"T_5e6ad_row2_col2\" class=\"data row2 col2\" >1.000000</td>\n",
       "      <td id=\"T_5e6ad_row2_col3\" class=\"data row2 col3\" >-0.019729</td>\n",
       "      <td id=\"T_5e6ad_row2_col4\" class=\"data row2 col4\" >-0.024894</td>\n",
       "      <td id=\"T_5e6ad_row2_col5\" class=\"data row2 col5\" >0.035022</td>\n",
       "      <td id=\"T_5e6ad_row2_col6\" class=\"data row2 col6\" >0.001194</td>\n",
       "      <td id=\"T_5e6ad_row2_col7\" class=\"data row2 col7\" >0.029135</td>\n",
       "    </tr>\n",
       "    <tr>\n",
       "      <th id=\"T_5e6ad_level0_row3\" class=\"row_heading level0 row3\" >hypertension</th>\n",
       "      <td id=\"T_5e6ad_row3_col0\" class=\"data row3 col0\" >-0.006441</td>\n",
       "      <td id=\"T_5e6ad_row3_col1\" class=\"data row3 col1\" >0.504586</td>\n",
       "      <td id=\"T_5e6ad_row3_col2\" class=\"data row3 col2\" >-0.019729</td>\n",
       "      <td id=\"T_5e6ad_row3_col3\" class=\"data row3 col3\" >1.000000</td>\n",
       "      <td id=\"T_5e6ad_row3_col4\" class=\"data row3 col4\" >0.433086</td>\n",
       "      <td id=\"T_5e6ad_row3_col5\" class=\"data row3 col5\" >0.087971</td>\n",
       "      <td id=\"T_5e6ad_row3_col6\" class=\"data row3 col6\" >-0.006267</td>\n",
       "      <td id=\"T_5e6ad_row3_col7\" class=\"data row3 col7\" >-0.035701</td>\n",
       "    </tr>\n",
       "    <tr>\n",
       "      <th id=\"T_5e6ad_level0_row4\" class=\"row_heading level0 row4\" >diabetes</th>\n",
       "      <td id=\"T_5e6ad_row4_col0\" class=\"data row4 col0\" >0.001605</td>\n",
       "      <td id=\"T_5e6ad_row4_col1\" class=\"data row4 col1\" >0.292392</td>\n",
       "      <td id=\"T_5e6ad_row4_col2\" class=\"data row4 col2\" >-0.024894</td>\n",
       "      <td id=\"T_5e6ad_row4_col3\" class=\"data row4 col3\" >0.433086</td>\n",
       "      <td id=\"T_5e6ad_row4_col4\" class=\"data row4 col4\" >1.000000</td>\n",
       "      <td id=\"T_5e6ad_row4_col5\" class=\"data row4 col5\" >0.018474</td>\n",
       "      <td id=\"T_5e6ad_row4_col6\" class=\"data row4 col6\" >-0.014550</td>\n",
       "      <td id=\"T_5e6ad_row4_col7\" class=\"data row4 col7\" >-0.015180</td>\n",
       "    </tr>\n",
       "    <tr>\n",
       "      <th id=\"T_5e6ad_level0_row5\" class=\"row_heading level0 row5\" >alcoholism</th>\n",
       "      <td id=\"T_5e6ad_row5_col0\" class=\"data row5 col0\" >0.011011</td>\n",
       "      <td id=\"T_5e6ad_row5_col1\" class=\"data row5 col1\" >0.095811</td>\n",
       "      <td id=\"T_5e6ad_row5_col2\" class=\"data row5 col2\" >0.035022</td>\n",
       "      <td id=\"T_5e6ad_row5_col3\" class=\"data row5 col3\" >0.087971</td>\n",
       "      <td id=\"T_5e6ad_row5_col4\" class=\"data row5 col4\" >0.018474</td>\n",
       "      <td id=\"T_5e6ad_row5_col5\" class=\"data row5 col5\" >1.000000</td>\n",
       "      <td id=\"T_5e6ad_row5_col6\" class=\"data row5 col6\" >-0.026147</td>\n",
       "      <td id=\"T_5e6ad_row5_col7\" class=\"data row5 col7\" >-0.000196</td>\n",
       "    </tr>\n",
       "    <tr>\n",
       "      <th id=\"T_5e6ad_level0_row6\" class=\"row_heading level0 row6\" >sms_received</th>\n",
       "      <td id=\"T_5e6ad_row6_col0\" class=\"data row6 col0\" >-0.009749</td>\n",
       "      <td id=\"T_5e6ad_row6_col1\" class=\"data row6 col1\" >0.012643</td>\n",
       "      <td id=\"T_5e6ad_row6_col2\" class=\"data row6 col2\" >0.001194</td>\n",
       "      <td id=\"T_5e6ad_row6_col3\" class=\"data row6 col3\" >-0.006267</td>\n",
       "      <td id=\"T_5e6ad_row6_col4\" class=\"data row6 col4\" >-0.014550</td>\n",
       "      <td id=\"T_5e6ad_row6_col5\" class=\"data row6 col5\" >-0.026147</td>\n",
       "      <td id=\"T_5e6ad_row6_col6\" class=\"data row6 col6\" >1.000000</td>\n",
       "      <td id=\"T_5e6ad_row6_col7\" class=\"data row6 col7\" >0.126431</td>\n",
       "    </tr>\n",
       "    <tr>\n",
       "      <th id=\"T_5e6ad_level0_row7\" class=\"row_heading level0 row7\" >no_show</th>\n",
       "      <td id=\"T_5e6ad_row7_col0\" class=\"data row7 col0\" >-0.001461</td>\n",
       "      <td id=\"T_5e6ad_row7_col1\" class=\"data row7 col1\" >-0.060319</td>\n",
       "      <td id=\"T_5e6ad_row7_col2\" class=\"data row7 col2\" >0.029135</td>\n",
       "      <td id=\"T_5e6ad_row7_col3\" class=\"data row7 col3\" >-0.035701</td>\n",
       "      <td id=\"T_5e6ad_row7_col4\" class=\"data row7 col4\" >-0.015180</td>\n",
       "      <td id=\"T_5e6ad_row7_col5\" class=\"data row7 col5\" >-0.000196</td>\n",
       "      <td id=\"T_5e6ad_row7_col6\" class=\"data row7 col6\" >0.126431</td>\n",
       "      <td id=\"T_5e6ad_row7_col7\" class=\"data row7 col7\" >1.000000</td>\n",
       "    </tr>\n",
       "  </tbody>\n",
       "</table>\n"
      ],
      "text/plain": [
       "<pandas.io.formats.style.Styler at 0x1f5ba49d280>"
      ]
     },
     "execution_count": 116,
     "metadata": {},
     "output_type": "execute_result"
    }
   ],
   "source": [
    "#Establishing the correlation between the features\n",
    "df.corr().style.background_gradient(cmap='Reds')"
   ]
  },
  {
   "cell_type": "markdown",
   "id": "6a2b7979",
   "metadata": {},
   "source": [
    "\n",
    "It can be seen that the highest correlation is for hypertension and age, hypertension and diabetes, and diabetes and age."
   ]
  },
  {
   "cell_type": "markdown",
   "id": "529310d6",
   "metadata": {},
   "source": [
    "### Histogram of the data"
   ]
  },
  {
   "cell_type": "code",
   "execution_count": 117,
   "id": "6afb4be5",
   "metadata": {},
   "outputs": [
    {
     "data": {
      "text/plain": [
       "array([[<AxesSubplot:title={'center':'patientid'}>,\n",
       "        <AxesSubplot:title={'center':'scheduled_day'}>],\n",
       "       [<AxesSubplot:title={'center':'appointment_day'}>,\n",
       "        <AxesSubplot:title={'center':'age'}>],\n",
       "       [<AxesSubplot:title={'center':'no_show'}>, <AxesSubplot:>]],\n",
       "      dtype=object)"
      ]
     },
     "execution_count": 117,
     "metadata": {},
     "output_type": "execute_result"
    },
    {
     "data": {
      "image/png": "[encoded data removed]",
      "text/plain": [
       "<Figure size 720x720 with 6 Axes>"
      ]
     },
     "metadata": {
      "needs_background": "light"
     },
     "output_type": "display_data"
    }
   ],
   "source": [
    "#Histogram of our data\n",
    "df.hist(figsize=(10,10), color='darkblue')"
   ]
  },
  {
   "cell_type": "code",
   "execution_count": 118,
   "id": "9b0aa679",
   "metadata": {},
   "outputs": [
    {
     "name": "stdout",
     "output_type": "stream",
     "text": [
      "0    88208\n",
      "1    22319\n",
      "Name: no_show, dtype: int64\n"
     ]
    }
   ],
   "source": [
    "#Obtain the total number of those who showed up and those who did not\n",
    "no_show_data = df['no_show'].value_counts()\n",
    "print(no_show_data)"
   ]
  },
  {
   "cell_type": "markdown",
   "id": "b61b9cbd",
   "metadata": {},
   "source": []
  },
  {
   "cell_type": "code",
   "execution_count": null,
   "id": "696c698b",
   "metadata": {},
   "outputs": [],
   "source": []
  },
  {
   "cell_type": "code",
   "execution_count": 24,
   "id": "c58e9e68",
   "metadata": {},
   "outputs": [
    {
     "data": {
      "text/plain": [
       "<matplotlib.legend.Legend at 0x1d0bad915e0>"
      ]
     },
     "execution_count": 24,
     "metadata": {},
     "output_type": "execute_result"
    },
    {
     "data": {
      "image/png": "[encoded data removed]",
      "text/plain": [
       "<Figure size 432x288 with 1 Axes>"
      ]
     },
     "metadata": {},
     "output_type": "display_data"
    }
   ],
   "source": [
    "#A pie chart elaborating no show\n",
    "df['no_show'].value_counts().plot.pie()\n",
    "plt.title('Figure showing values of no show')\n",
    "plt.legend()"
   ]
  },
  {
   "cell_type": "code",
   "execution_count": 122,
   "id": "5bf5c62d",
   "metadata": {},
   "outputs": [
    {
     "data": {
      "text/plain": [
       "0    88208\n",
       "1    22319\n",
       "Name: no_show, dtype: int64"
      ]
     },
     "execution_count": 122,
     "metadata": {},
     "output_type": "execute_result"
    }
   ],
   "source": [
    "\n",
    "df['no_show'].value_counts()"
   ]
  },
  {
   "cell_type": "code",
   "execution_count": 121,
   "id": "2d88798e",
   "metadata": {},
   "outputs": [
    {
     "data": {
      "text/plain": [
       "array([<AxesSubplot:>, <AxesSubplot:>, <AxesSubplot:>, <AxesSubplot:>,\n",
       "       <AxesSubplot:>], dtype=object)"
      ]
     },
     "execution_count": 121,
     "metadata": {},
     "output_type": "execute_result"
    },
    {
     "data": {
      "image/png": "[encoded data removed]",
      "text/plain": [
       "<Figure size 432x288 with 5 Axes>"
      ]
     },
     "metadata": {
      "needs_background": "light"
     },
     "output_type": "display_data"
    }
   ],
   "source": [
    "#A subplot of the data\n",
    "df.plot(subplots=True)"
   ]
  },
  {
   "cell_type": "code",
   "execution_count": 120,
   "id": "599b7edd",
   "metadata": {},
   "outputs": [
    {
     "data": {
      "text/plain": [
       "Text(0, 0.5, 'Number of Appointments')"
      ]
     },
     "execution_count": 120,
     "metadata": {},
     "output_type": "execute_result"
    },
    {
     "data": {
      "image/png": "[encoded data removed]",
      "text/plain": [
       "<Figure size 432x288 with 1 Axes>"
      ]
     },
     "metadata": {
      "needs_background": "light"
     },
     "output_type": "display_data"
    }
   ],
   "source": [
    "# Bar plot showing those who showed up and those who did not\n",
    "\n",
    "df['no_show'].value_counts().plot(kind='bar', color='darkblue')\n",
    "plt.title('Appointment turn out')\n",
    "plt.xlabel('No Show')\n",
    "plt.ylabel('Number of Appointments')"
   ]
  },
  {
   "cell_type": "markdown",
   "id": "f9349052",
   "metadata": {},
   "source": [
    "1 represents patients who did not show up, while 0 represents those who shed up for their appointment."
   ]
  },
  {
   "cell_type": "markdown",
   "id": "ddc0d277",
   "metadata": {},
   "source": [
    "\n",
    "###  4.2 Establishing how each feature relates to no_show\n",
    "i)Gender"
   ]
  },
  {
   "cell_type": "code",
   "execution_count": 123,
   "id": "b5f4771a",
   "metadata": {},
   "outputs": [
    {
     "name": "stdout",
     "output_type": "stream",
     "text": [
      "gender\n",
      "F    0.203146\n",
      "M    0.199679\n",
      "Name: no_show, dtype: float64\n"
     ]
    }
   ],
   "source": [
    "gender = df.groupby('gender')['no_show'].mean()\n",
    "print(gender)"
   ]
  },
  {
   "cell_type": "markdown",
   "id": "97d4452a",
   "metadata": {},
   "source": [
    "As observed above, gender does not have a high significance to determine whether a patient shows up for appointment or not both males and females do not show up approximately 20% of their appointments.\n",
    "\n",
    "ii)Hypertension\n"
   ]
  },
  {
   "cell_type": "code",
   "execution_count": 124,
   "id": "68f5bd4f",
   "metadata": {},
   "outputs": [
    {
     "name": "stdout",
     "output_type": "stream",
     "text": [
      "hypertension\n",
      "False    0.209037\n",
      "True     0.173020\n",
      "Name: no_show, dtype: float64\n"
     ]
    }
   ],
   "source": [
    "hypertension = df.groupby('hypertension')['no_show'].mean()\n",
    "print(hypertension)\n"
   ]
  },
  {
   "cell_type": "markdown",
   "id": "0e8c2bce",
   "metadata": {},
   "source": [
    "Hypertention on the other hand has a small effect as patients with hypertension are 3% more likely to show up for their appointments as compared to those without hypertension.\n",
    "\n",
    "iii)Alcohol"
   ]
  },
  {
   "cell_type": "code",
   "execution_count": 42,
   "id": "1311bbd5",
   "metadata": {},
   "outputs": [
    {
     "name": "stdout",
     "output_type": "stream",
     "text": [
      "alcoholism\n",
      "False    0.201946\n",
      "True     0.201488\n",
      "Name: no_show, dtype: float64\n"
     ]
    }
   ],
   "source": [
    "alcohol = df.groupby('alcoholism')['no_show'].mean()\n",
    "print(alcohol)"
   ]
  },
  {
   "cell_type": "markdown",
   "id": "3ad61e50",
   "metadata": {},
   "source": [
    "Alcoholism does not seem to affect no shows\n",
    "\n",
    "iv)Diabetes"
   ]
  },
  {
   "cell_type": "code",
   "execution_count": 43,
   "id": "c66f51e9",
   "metadata": {},
   "outputs": [
    {
     "name": "stdout",
     "output_type": "stream",
     "text": [
      "diabetes\n",
      "False    0.203628\n",
      "True     0.180033\n",
      "Name: no_show, dtype: float64\n"
     ]
    }
   ],
   "source": [
    "diabetes = df.groupby('diabetes')['no_show'].mean()\n",
    "print(diabetes)"
   ]
  },
  {
   "cell_type": "markdown",
   "id": "855ddb01",
   "metadata": {},
   "source": [
    "Diabetes has a small significance at determining no shows since 2% more are high likely to show up."
   ]
  },
  {
   "cell_type": "markdown",
   "id": "81b40068",
   "metadata": {},
   "source": [
    "### 4.3 Is the age likely to affect a patient's showing up for a scheduled appointment?"
   ]
  },
  {
   "cell_type": "code",
   "execution_count": 11,
   "id": "e8dabb1a",
   "metadata": {},
   "outputs": [
    {
     "data": {
      "text/plain": [
       "Text(0.5, 1.0, 'Distribution of Age')"
      ]
     },
     "execution_count": 11,
     "metadata": {},
     "output_type": "execute_result"
    },
    {
     "data": {
      "image/png": "[encoded data removed]",
      "text/plain": [
       "<Figure size 432x288 with 1 Axes>"
      ]
     },
     "metadata": {
      "needs_background": "light"
     },
     "output_type": "display_data"
    }
   ],
   "source": [
    "df['age'].hist(bins=10)\n",
    "plt.xlabel('Age')\n",
    "plt.title('Distribution of Age')"
   ]
  },
  {
   "cell_type": "markdown",
   "id": "616447e6",
   "metadata": {},
   "source": [
    "The following is observed:"
   ]
  },
  {
   "cell_type": "markdown",
   "id": "16a93ebd",
   "metadata": {},
   "source": [
    "As observed, majority of patients who had appointments belong to the age brackets (0 - 10) and (50 - 60) whle tge least age bracket is(90 - 100)\n"
   ]
  },
  {
   "cell_type": "code",
   "execution_count": 45,
   "id": "398828a3",
   "metadata": {},
   "outputs": [],
   "source": [
    "#Creating variaables\n",
    "missed = df['no_show'] == 1\n",
    "showed = df['no_show'] == 0\n"
   ]
  },
  {
   "cell_type": "code",
   "execution_count": 47,
   "id": "96b09320",
   "metadata": {},
   "outputs": [
    {
     "data": {
      "text/plain": [
       "Text(0, 0.5, 'Count')"
      ]
     },
     "execution_count": 47,
     "metadata": {},
     "output_type": "execute_result"
    },
    {
     "data": {
      "image/png": "[encoded data removed]",
      "text/plain": [
       "<Figure size 432x288 with 1 Axes>"
      ]
     },
     "metadata": {
      "needs_background": "light"
     },
     "output_type": "display_data"
    }
   ],
   "source": [
    "#Histogram showing age distribution of patients\n",
    "\n",
    "df[showed].age.hist(alpha=0.5, bins=20, label='showed')\n",
    "df[missed].age.hist(alpha=0.5, bins=20, label='missed')\n",
    "plt.legend();\n",
    "plt.title('Histogram of Age Distribution')\n",
    "plt.xlabel('Age of patients')\n",
    "plt.ylabel('Count')"
   ]
  },
  {
   "cell_type": "markdown",
   "id": "a6dc6046",
   "metadata": {},
   "source": [
    "The above histogram shows the age distribution of patients who showed up for the appointments and those who did not.\n",
    "\n",
    "Grouping the age"
   ]
  },
  {
   "cell_type": "code",
   "execution_count": 48,
   "id": "0f9c13b3",
   "metadata": {},
   "outputs": [],
   "source": [
    "#Grouping the age so as to obtain which age group did not show up \n",
    "bins=[0,10,20,30,40,50,60,70,80,90,110,120]\n",
    "df['age_group'] = pd.cut(df.age, bins=bins)\n",
    "age_grouped = df.groupby('age_group')['no_show'].value_counts()\n"
   ]
  },
  {
   "cell_type": "code",
   "execution_count": 49,
   "id": "d6fe87d5",
   "metadata": {},
   "outputs": [
    {
     "name": "stdout",
     "output_type": "stream",
     "text": [
      "age_group   no_show\n",
      "(0, 10]     0          12062\n",
      "            1           3149\n",
      "(10, 20]    0           9791\n",
      "            1           3308\n",
      "(20, 30]    0          10389\n",
      "            1           3394\n",
      "(30, 40]    0          11820\n",
      "            1           3232\n",
      "(40, 50]    0          11550\n",
      "            1           2870\n",
      "(50, 60]    0          12940\n",
      "            1           2721\n",
      "(60, 70]    0           9541\n",
      "            1           1648\n",
      "(70, 80]    0           4832\n",
      "            1            889\n",
      "(80, 90]    0           2137\n",
      "            1            407\n",
      "(90, 110]   0            244\n",
      "            1             59\n",
      "(110, 120]  1              3\n",
      "            0              2\n",
      "Name: no_show, dtype: int64\n"
     ]
    }
   ],
   "source": [
    "print(age_grouped)"
   ]
  },
  {
   "cell_type": "code",
   "execution_count": 51,
   "id": "ba410d7f",
   "metadata": {},
   "outputs": [
    {
     "data": {
      "text/plain": [
       "Text(0.5, 1.0, 'Distribution of ages in missed appointments')"
      ]
     },
     "execution_count": 51,
     "metadata": {},
     "output_type": "execute_result"
    },
    {
     "data": {
      "image/png": "[encoded data removed]",
      "text/plain": [
       "<Figure size 432x288 with 1 Axes>"
      ]
     },
     "metadata": {
      "needs_background": "light"
     },
     "output_type": "display_data"
    }
   ],
   "source": [
    "(age_grouped/age_grouped.groupby(level=0).sum()*100).unstack().plot(kind='bar', stacked='True')\n",
    "plt.legend(['Showed','Missed'])\n",
    "plt.ylabel('Turn up for appointments')\n",
    "plt.title('Distribution of ages in missed appointments')"
   ]
  },
  {
   "cell_type": "markdown",
   "id": "2a8c188a",
   "metadata": {},
   "source": [
    "Patients in age brackets (10-20), (20-30),and (110-120) are more likely to miss their appointments.\n",
    "Children and patients in their 60s, 70s and 80 are more likely to show up for their appointments."
   ]
  },
  {
   "cell_type": "markdown",
   "id": "f60e5e27",
   "metadata": {},
   "source": [
    "## What age bracket is likely not to show up for appointments?"
   ]
  },
  {
   "cell_type": "markdown",
   "id": "987bc3fa",
   "metadata": {},
   "source": [
    "For clarity, we divide the ages of the patient as follows :\n",
    "\n",
    "below 18, 18-24, 25-34, 35-44, 45-54, 55-64, more than 65."
   ]
  },
  {
   "cell_type": "code",
   "execution_count": 43,
   "id": "709e9a9b",
   "metadata": {},
   "outputs": [],
   "source": [
    "def age(data,rows,s1,s2):\n",
    "    \"\"\" The function creates a category of ages to have a better understanding\n",
    "    of patients in which  age bracket is likely not toshow up for an appointment:\n",
    "    \n",
    "    data : It takes the original value that will be divided by it\n",
    "    rows : It takes the column's name\n",
    "    r1 : the lower limit of the column.\n",
    "    r2 : the higher limit of the column\n",
    "    \n",
    "    a new dataframe with all columns in the original one but only the rows which meet the condition.\n",
    "\n",
    "    \"\"\"\n",
    "    if s2 < s1 :\n",
    "        s1 , s2 = s2 , s1\n",
    "        \n",
    "    return data.query(f\"{s1} <= {rows} <= {s2}\")"
   ]
  },
  {
   "cell_type": "code",
   "execution_count": 45,
   "id": "8cb5f901",
   "metadata": {},
   "outputs": [],
   "source": [
    "#get dataframes for each age category\n",
    "childs = df.query('age < 18')\n",
    "age_18 = age(df,\"age\",18,24)\n",
    "age_25 = age(df,'age',25,34)\n",
    "age_35 = age(df,'age',35,44)\n",
    "age_45 = age(df,'age',45,54)\n",
    "age_55 = age(df,'age',55,64)\n",
    "old = df.query('age >= 65')"
   ]
  },
  {
   "cell_type": "code",
   "execution_count": 58,
   "id": "670ce3a7",
   "metadata": {},
   "outputs": [],
   "source": [
    "#calculate mean for each age category\n",
    "sum_childs = childs['no_show'].sum()\n",
    "sum_age_18 = age_18['no_show'].sum()\n",
    "sum_age_25 = age_25['no_show'].sum()\n",
    "sum_age_35 = age_35['no_show'].sum()\n",
    "sum_age_45 = age_45['no_show'].sum()\n",
    "sum_age_55 = age_55['no_show'].sum()\n",
    "sum_old = old['no_show'].sum()"
   ]
  },
  {
   "cell_type": "markdown",
   "id": "0460fbf8",
   "metadata": {},
   "source": [
    "The plot:"
   ]
  },
  {
   "cell_type": "code",
   "execution_count": 61,
   "id": "1cccc645",
   "metadata": {},
   "outputs": [
    {
     "data": {
      "text/plain": [
       "Text(0, 0.5, 'Average \"No-show\"')"
      ]
     },
     "execution_count": 61,
     "metadata": {},
     "output_type": "execute_result"
    },
    {
     "data": {
      "image/png": "[encoded data removed]",
      "text/plain": [
       "<Figure size 432x288 with 1 Axes>"
      ]
     },
     "metadata": {
      "needs_background": "light"
     },
     "output_type": "display_data"
    }
   ],
   "source": [
    "locations = [1,2,3,4,5,6,7]\n",
    "heights = [mean_childs,mean_age_18,mean_age_25,mean_age_35,mean_age_45,mean_age_55,mean_old]\n",
    "labels = ['Childs','18-24','25-34','35-44','45-54','55-64','Old']\n",
    "\n",
    "plt.bar(locations,heights,tick_label = labels)\n",
    "plt.title('Average \"No-show\" Vs Age Categories')\n",
    "plt.ylim([1.9,1.5]) #to focus on this spot to notice the change\n",
    "plt.xlabel('Age Category')\n",
    "plt.ylabel('Average \"No-show\"')"
   ]
  },
  {
   "cell_type": "markdown",
   "id": "15d2ebc8",
   "metadata": {},
   "source": [
    "\n",
    "### 4.4 Which gender is more likely not to show up for their scheduled appointment?"
   ]
  },
  {
   "cell_type": "code",
   "execution_count": 55,
   "id": "1b03a733",
   "metadata": {},
   "outputs": [
    {
     "name": "stdout",
     "output_type": "stream",
     "text": [
      "F    65.0\n",
      "M    35.0\n",
      "Name: gender, dtype: float64\n"
     ]
    }
   ],
   "source": [
    "#Percentage of male and female in the dataset\n",
    "print(round(df.gender.value_counts()/len(df)*100))"
   ]
  },
  {
   "cell_type": "markdown",
   "id": "3d18c83c",
   "metadata": {},
   "source": [
    "Women constitute 65% of the data while male are 35%.\n",
    "\n",
    "Bar chart for gender"
   ]
  },
  {
   "cell_type": "code",
   "execution_count": 77,
   "id": "3dd7208a",
   "metadata": {},
   "outputs": [
    {
     "data": {
      "text/plain": [
       "Text(0, 0.5, 'Total Count')"
      ]
     },
     "execution_count": 77,
     "metadata": {},
     "output_type": "execute_result"
    },
    {
     "data": {
      "image/png": "[encoded data removed]",
      "text/plain": [
       "<Figure size 432x288 with 1 Axes>"
      ]
     },
     "metadata": {
      "needs_background": "light"
     },
     "output_type": "display_data"
    }
   ],
   "source": [
    "#Barchart for gender\n",
    "\n",
    "df.gender.value_counts().plot(kind='bar', color='darkblue')\n",
    "plt.title('Distribution of gender')\n",
    "plt.xlabel('Male and Female')\n",
    "plt.ylabel('Total Count')\n"
   ]
  },
  {
   "cell_type": "markdown",
   "id": "20521cad",
   "metadata": {},
   "source": [
    "The number of females is greater than the number of males."
   ]
  },
  {
   "cell_type": "code",
   "execution_count": 84,
   "id": "9470cb78",
   "metadata": {},
   "outputs": [
    {
     "name": "stdout",
     "output_type": "stream",
     "text": [
      "gender  no_show\n",
      "F       0          57246\n",
      "        1          14594\n",
      "M       0          30962\n",
      "        1           7725\n",
      "Name: no_show, dtype: int64\n"
     ]
    }
   ],
   "source": [
    "#Getting to know no show by gender\n",
    "gender_group = df.groupby('gender')['no_show'].value_counts()\n",
    "print(gender_group)"
   ]
  },
  {
   "cell_type": "code",
   "execution_count": 71,
   "id": "2f17d9c6",
   "metadata": {},
   "outputs": [
    {
     "data": {
      "text/plain": [
       "Text(0.5, 1.0, 'Distribution of gender in missed appointments')"
      ]
     },
     "execution_count": 71,
     "metadata": {},
     "output_type": "execute_result"
    },
    {
     "data": {
      "image/png": "[encoded data removed]",
      "text/plain": [
       "<Figure size 432x288 with 1 Axes>"
      ]
     },
     "metadata": {
      "needs_background": "light"
     },
     "output_type": "display_data"
    }
   ],
   "source": [
    "gender_group.plot(kind='bar', stacked='True')\n",
    "plt.legend(['Showed','Missed'])\n",
    "plt.ylabel('Turn up for appointments')\n",
    "plt.title('Distribution of gender in missed appointments')"
   ]
  },
  {
   "cell_type": "code",
   "execution_count": 82,
   "id": "aa01284d",
   "metadata": {},
   "outputs": [
    {
     "data": {
      "text/plain": [
       "Text(0.5, 1.0, 'Distribution of gender in missed appointments')"
      ]
     },
     "execution_count": 82,
     "metadata": {},
     "output_type": "execute_result"
    },
    {
     "data": {
      "image/png": "[encoded data removed]",
      "text/plain": [
       "<Figure size 432x288 with 1 Axes>"
      ]
     },
     "metadata": {
      "needs_background": "light"
     },
     "output_type": "display_data"
    }
   ],
   "source": [
    "#Stacked bar chart showing gender of no show\n",
    "(gender_group/gender_group.groupby(level=1).sum()*100).unstack().plot(kind='bar', stacked='True')\n",
    "plt.legend(['Showed','Missed'])\n",
    "plt.ylabel('Turn up for appointments')\n",
    "plt.title('Distribution of gender in missed appointments')"
   ]
  },
  {
   "cell_type": "markdown",
   "id": "89bc281d",
   "metadata": {},
   "source": [
    "From the bar charts above, we observe that there is no correlation between the gender of a patient and missing appointments.\n",
    "This is because the ratio of males and females missing appointments is relatilvely the same."
   ]
  },
  {
   "cell_type": "markdown",
   "id": "85d0def1",
   "metadata": {},
   "source": [
    "\n",
    "### 4.5 Do patients suffering from hypertension likely to whow up for their appointments?"
   ]
  },
  {
   "cell_type": "code",
   "execution_count": 76,
   "id": "f35725b8",
   "metadata": {},
   "outputs": [
    {
     "name": "stdout",
     "output_type": "stream",
     "text": [
      "False    80.0\n",
      "True     20.0\n",
      "Name: hypertension, dtype: float64\n"
     ]
    }
   ],
   "source": [
    "#Percent of patient with diabetes\n",
    "print(round(df.hypertension.value_counts()/len(df)*100))"
   ]
  },
  {
   "cell_type": "markdown",
   "id": "d67c470b",
   "metadata": {},
   "source": [
    "20% of the patients suffer from hypertension while 80% do not."
   ]
  },
  {
   "cell_type": "code",
   "execution_count": 79,
   "id": "8b1bba25",
   "metadata": {},
   "outputs": [
    {
     "data": {
      "text/plain": [
       "Text(0, 0.5, 'Total Count')"
      ]
     },
     "execution_count": 79,
     "metadata": {},
     "output_type": "execute_result"
    },
    {
     "data": {
      "image/png": "[encoded data removed]",
      "text/plain": [
       "<Figure size 432x288 with 1 Axes>"
      ]
     },
     "metadata": {
      "needs_background": "light"
     },
     "output_type": "display_data"
    }
   ],
   "source": [
    "#Barchart for hypertension\n",
    "\n",
    "df.hypertension.value_counts().plot(kind='bar', color='darkorange')\n",
    "plt.title('Patients with hypertension')\n",
    "plt.xlabel('Male and Female')\n",
    "plt.ylabel('Total Count')\n"
   ]
  },
  {
   "cell_type": "markdown",
   "id": "7b32c72f",
   "metadata": {},
   "source": [
    "Majority of the patients do not suffer from hypertension as only 20% experience hypertension condition."
   ]
  },
  {
   "cell_type": "code",
   "execution_count": 80,
   "id": "53acd1d7",
   "metadata": {},
   "outputs": [
    {
     "name": "stdout",
     "output_type": "stream",
     "text": [
      "hypertension  no_show\n",
      "False         0          70179\n",
      "              1          18547\n",
      "True          0          18029\n",
      "              1           3772\n",
      "Name: no_show, dtype: int64\n"
     ]
    }
   ],
   "source": [
    "#Getting to know no show by gender\n",
    "hypertsn = df.groupby('hypertension')['no_show'].value_counts()\n",
    "print(hypertsn)"
   ]
  },
  {
   "cell_type": "code",
   "execution_count": 83,
   "id": "682177ed",
   "metadata": {},
   "outputs": [
    {
     "data": {
      "text/plain": [
       "Text(0.5, 1.0, 'Hypertension affecting in missed appointments')"
      ]
     },
     "execution_count": 83,
     "metadata": {},
     "output_type": "execute_result"
    },
    {
     "data": {
      "image/png": "[encoded data removed]",
      "text/plain": [
       "<Figure size 432x288 with 1 Axes>"
      ]
     },
     "metadata": {
      "needs_background": "light"
     },
     "output_type": "display_data"
    }
   ],
   "source": [
    "#Stacked bar chart showing hypertension of no show\n",
    "(hypertsn/hypertsn.groupby(level=1).sum()*100).unstack().plot(kind='bar', stacked='True')\n",
    "plt.legend(['Showed','Missed'])\n",
    "plt.ylabel('Turn up for appointments')\n",
    "plt.title('Hypertension affecting in missed appointments')"
   ]
  },
  {
   "cell_type": "markdown",
   "id": "978060c5",
   "metadata": {},
   "source": [
    "Patients having hypertension are more likely to turn up for appointments but the rate is small.\n"
   ]
  },
  {
   "cell_type": "markdown",
   "id": "a14528d2",
   "metadata": {},
   "source": [
    "#  5.0 Conlusions"
   ]
  },
  {
   "cell_type": "markdown",
   "id": "bc56b00e",
   "metadata": {},
   "source": [
    "Results: From the above analysis we can oberve that:\n",
    "\n",
    "   -There are 13 independent variables and one dependent variable(no show)\n",
    "   \n",
    "   -Patients in age brackets (10-20), (20-30),and (110-120) are more likely to miss their appointments. Children and patients      in their 60s, 70s and 80 are more likely to show up for their appointments.\n",
    "   \n",
    "   -There is no correlation between the gender of a patient and missing appointments. This is because the ratio of males and      females missing appointments is relatilvely the same.\n",
    "   \n",
    "   -Patients having hypertension are more likely to turn up for appointments but the rate is small.\n",
    "   \n",
    "Limitation:\n",
    "\n",
    "Most of the data is categorical , therefore it is not easy to establish a strong correlation between the factors affecting no shows.\n"
   ]
  },
  {
   "cell_type": "markdown",
   "id": "71fef6a0",
   "metadata": {},
   "source": [
    "I used kaggle website(where the data was downloaded from) to get the description of the columns of the dataset."
   ]
  },
  {
   "cell_type": "code",
   "execution_count": null,
   "id": "a46c5d9e",
   "metadata": {},
   "outputs": [],
   "source": []
  }
 ],
 "metadata": {
  "kernelspec": {
   "display_name": "Python 3 (ipykernel)",
   "language": "python",
   "name": "python3"
  },
  "language_info": {
   "codemirror_mode": {
    "name": "ipython",
    "version": 3
   },
   "file_extension": ".py",
   "mimetype": "text/x-python",
   "name": "python",
   "nbconvert_exporter": "python",
   "pygments_lexer": "ipython3",
   "version": "3.9.12"
  }
 },
 "nbformat": 4,
 "nbformat_minor": 5
}
